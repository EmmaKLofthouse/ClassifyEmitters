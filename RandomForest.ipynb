{
 "cells": [
  {
   "cell_type": "code",
   "execution_count": 67,
   "metadata": {},
   "outputs": [],
   "source": [
    "#Read in individual datacubes and combine into a single dataframe\n",
    "#*** Finish copying over files\n",
    "\n",
    "\n",
    "from astropy.table import Table\n",
    "import pandas as pd\n",
    "\n",
    "df = pd.DataFrame()\n",
    "\n",
    "sightline_list = ['J010619+004823','J012403+004432','J013340+040059','J013724-422417','J015741-010629',\n",
    "                  'J020944+051713','J024401-013403','J033413-161205','J033900-013318','J094932+033531',\n",
    "                  'J095852+120245','J102009+104002','J111008+024458','J111113-080401','J120917+113830',\n",
    "                  'J123055-113909']#,'J124957-015928','J133254+005250','J142438+225600','J162116-004251',\n",
    "                  #'J193957-100241','J200324-325145','J205344-354652','J221527-161133','J230301-093930',\n",
    "                  #'J231543+145606','J233446-090812','J234913-371259']\n",
    "\n",
    "\n",
    "for sightline in sightline_list:\n",
    "    table = Table.read('/home/emma/Documents/laeML/catalogues/individual_cubes/{}_cubex_data.fits'.format(sightline))\n",
    "    table['sightline'] = sightline\n",
    "    pandas_df = table.to_pandas()\n",
    "    df = pd.concat([df,pandas_df])\n",
    "\n"
   ]
  },
  {
   "cell_type": "code",
   "execution_count": 85,
   "metadata": {},
   "outputs": [
    {
     "data": {
      "text/plain": [
       "Index([u'id', u'n_spax_thresh', u'x_geow', u'y_geow', u'z_geow', u'x_fluxw',\n",
       "       u'y_fluxw', u'z_fluxw', u'x_min', u'y_min', u'z_min', u'x_max',\n",
       "       u'y_max', u'z_max', u'area_isoproj', u'area_z', u'IsoFlux', u'IsoErr',\n",
       "       u'flux_minmax', u'err_minmax', u'flux_aper', u'err_aper', u'ra_geow',\n",
       "       u'Dec_geow', u'lambda_geow', u'ra_fluxw', u'Dec_fluxw', u'lambda_fluxw',\n",
       "       u'assoc_Id', u'SNR', u'SNR_odd', u'SNR_even', u'SNR_med', u'covfac',\n",
       "       u'confidence', u'veloffset', u'EODeltaSN', u'BoxFraction',\n",
       "       u'OverContinuum', u'redshift', u'CogFlux', u'CogErr', u'CogRad',\n",
       "       u'type', u'notes', u'inspect', u'sightline', u'isLAE'],\n",
       "      dtype='object')"
      ]
     },
     "execution_count": 85,
     "metadata": {},
     "output_type": "execute_result"
    }
   ],
   "source": [
    "#df.info()\n",
    "#df.head()\n",
    "#df.describe()\n",
    "df.columns"
   ]
  },
  {
   "cell_type": "code",
   "execution_count": 77,
   "metadata": {},
   "outputs": [],
   "source": [
    "# Check number of LAEs\n",
    "nLAE = df['type'].str.contains('LAE').sum()\n",
    "print(nLAE)\n"
   ]
  },
  {
   "cell_type": "code",
   "execution_count": null,
   "metadata": {},
   "outputs": [],
   "source": [
    "# Create new column to show if entry is an LAE\n",
    "df['isLAE'] = np.where(df['type'].str.contains('LAE'), 1, 0)"
   ]
  },
  {
   "cell_type": "code",
   "execution_count": 83,
   "metadata": {},
   "outputs": [],
   "source": [
    "LAEs = df[df['isLAE']==1]"
   ]
  },
  {
   "cell_type": "code",
   "execution_count": 87,
   "metadata": {},
   "outputs": [],
   "source": [
    "from sklearn.model_selection import train_test_split\n",
    "\n",
    "# Select features\n",
    "cols_to_use = ['n_spax_thresh','area_isoproj', 'area_z','IsoFlux','IsoErr','flux_minmax','lambda_geow',\n",
    "               'lambda_fluxw','SNR','veloffset','EODeltaSN','BoxFraction','OverContinuum','redshift',\n",
    "               'CogFlux','CogErr','CogRad']\n",
    "\n",
    "X = df[cols_to_use]\n",
    "\n",
    "# Select target\n",
    "y = df.isLAE\n",
    "\n",
    "# Separate data into training and validation sets\n",
    "#X_train, X_valid, y_train, y_valid = train_test_split(X, y)"
   ]
  },
  {
   "cell_type": "code",
   "execution_count": 91,
   "metadata": {},
   "outputs": [],
   "source": [
    "from sklearn.ensemble import RandomForestRegressor\n",
    "from sklearn.pipeline import Pipeline\n",
    "#from sklearn.impute import SimpleImputer\n",
    "from sklearn.preprocessing.imputation import Imputer\n",
    "\n",
    "my_pipeline = Pipeline(steps=[('preprocessor', Imputer()),\n",
    "                              ('model', RandomForestRegressor(n_estimators=50,\n",
    "                                                              random_state=0))\n",
    "                             ])"
   ]
  },
  {
   "cell_type": "code",
   "execution_count": 92,
   "metadata": {},
   "outputs": [
    {
     "name": "stdout",
     "output_type": "stream",
     "text": [
      "('MAE scores:\\n', array([0.00058087, 0.00057643, 0.00012194, 0.00045455, 0.00033703]))\n"
     ]
    }
   ],
   "source": [
    "from sklearn.model_selection import cross_val_score\n",
    "\n",
    "# Multiply by -1 since sklearn calculates *negative* MAE\n",
    "scores = -1 * cross_val_score(my_pipeline, X, y,\n",
    "                              cv=5,\n",
    "                              scoring='neg_mean_absolute_error')\n",
    "\n",
    "print(\"MAE scores:\\n\", scores)"
   ]
  },
  {
   "cell_type": "code",
   "execution_count": 95,
   "metadata": {},
   "outputs": [],
   "source": [
    "model = my_pipeline.fit(X,y)"
   ]
  },
  {
   "cell_type": "code",
   "execution_count": 96,
   "metadata": {},
   "outputs": [],
   "source": [
    "preds = my_pipeline.predict(X)"
   ]
  },
  {
   "cell_type": "code",
   "execution_count": 97,
   "metadata": {},
   "outputs": [
    {
     "data": {
      "text/plain": [
       "array([0., 0., 0., ..., 0., 0., 0.])"
      ]
     },
     "execution_count": 97,
     "metadata": {},
     "output_type": "execute_result"
    }
   ],
   "source": [
    "preds\n"
   ]
  },
  {
   "cell_type": "code",
   "execution_count": 99,
   "metadata": {},
   "outputs": [
    {
     "data": {
      "text/plain": [
       "638"
      ]
     },
     "execution_count": 99,
     "metadata": {},
     "output_type": "execute_result"
    }
   ],
   "source": [
    "len(preds[preds==1])"
   ]
  },
  {
   "cell_type": "code",
   "execution_count": null,
   "metadata": {},
   "outputs": [],
   "source": []
  }
 ],
 "metadata": {
  "kernelspec": {
   "display_name": "Python 3",
   "language": "python",
   "name": "python3"
  },
  "language_info": {
   "codemirror_mode": {
    "name": "ipython",
    "version": 2
   },
   "file_extension": ".py",
   "mimetype": "text/x-python",
   "name": "python",
   "nbconvert_exporter": "python",
   "pygments_lexer": "ipython2",
   "version": "2.7.15"
  }
 },
 "nbformat": 4,
 "nbformat_minor": 2
}
