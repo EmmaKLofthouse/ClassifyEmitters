{
 "cells": [
  {
   "cell_type": "code",
   "execution_count": 165,
   "metadata": {},
   "outputs": [],
   "source": [
    "### !!! This currently doesn't identify any LAEs."
   ]
  },
  {
   "cell_type": "code",
   "execution_count": null,
   "metadata": {},
   "outputs": [],
   "source": [
    "# Read in individual datacubes and combine into a single dataframe\n",
    "\n",
    "from astropy.table import Table\n",
    "import pandas as pd\n",
    "import numpy as np\n",
    "\n",
    "df = pd.DataFrame()\n",
    "\n",
    "sightline_list = ['J010619+004823','J012403+004432','J013340+040059','J013724-422417','J015741-010629',\n",
    "                  'J020944+051713','J024401-013403','J033413-161205','J033900-013318','J094932+033531',\n",
    "                  'J095852+120245','J102009+104002','J111008+024458','J111113-080401','J120917+113830',\n",
    "                  'J123055-113909','J124957-015928','J133254+005250','J142438+225600','J162116-004251',\n",
    "                  'J193957-100241','J200324-325145','J205344-354652','J221527-161133','J230301-093930',\n",
    "                  'J231543+145606','J233446-090812','J234913-371259']\n",
    "\n",
    "\n",
    "for sightline in sightline_list:\n",
    "    table = Table.read('/home/emma/Documents/laeML/catalogues/individual_cubes/{}_cubex_data.fits'.format(sightline))\n",
    "    table['sightline'] = sightline\n",
    "    pandas_df = table.to_pandas()\n",
    "    df = pd.concat([df,pandas_df])"
   ]
  },
  {
   "cell_type": "code",
   "execution_count": 166,
   "metadata": {},
   "outputs": [
    {
     "data": {
      "text/plain": [
       "Index([u'id', u'n_spax_thresh', u'x_geow', u'y_geow', u'z_geow', u'x_fluxw',\n",
       "       u'y_fluxw', u'z_fluxw', u'x_min', u'y_min', u'z_min', u'x_max',\n",
       "       u'y_max', u'z_max', u'area_isoproj', u'area_z', u'IsoFlux', u'IsoErr',\n",
       "       u'flux_minmax', u'err_minmax', u'flux_aper', u'err_aper', u'ra_geow',\n",
       "       u'Dec_geow', u'lambda_geow', u'ra_fluxw', u'Dec_fluxw', u'lambda_fluxw',\n",
       "       u'assoc_Id', u'SNR', u'SNR_odd', u'SNR_even', u'SNR_med', u'covfac',\n",
       "       u'confidence', u'veloffset', u'EODeltaSN', u'BoxFraction',\n",
       "       u'OverContinuum', u'redshift', u'CogFlux', u'CogErr', u'CogRad',\n",
       "       u'type', u'notes', u'inspect', u'sightline'],\n",
       "      dtype='object')"
      ]
     },
     "execution_count": 166,
     "metadata": {},
     "output_type": "execute_result"
    }
   ],
   "source": [
    "#df.info()\n",
    "#df.head()\n",
    "#df.describe()\n",
    "df.columns"
   ]
  },
  {
   "cell_type": "code",
   "execution_count": 179,
   "metadata": {},
   "outputs": [],
   "source": [
    "# Cut to SNR > 7 as we haven't looked at all the sources below this\n",
    "df = df[(df.SNR >= 7)]\n"
   ]
  },
  {
   "cell_type": "code",
   "execution_count": 180,
   "metadata": {},
   "outputs": [
    {
     "name": "stdout",
     "output_type": "stream",
     "text": [
      "1013\n"
     ]
    }
   ],
   "source": [
    "# Check number of LAEs\n",
    "nLAE = df['type'].str.contains('LAE').sum()\n",
    "print(nLAE)"
   ]
  },
  {
   "cell_type": "code",
   "execution_count": 181,
   "metadata": {},
   "outputs": [],
   "source": [
    "# Create new column to show if entry is an LAE\n",
    "df['isLAE'] = np.where(df['type'].str.contains('LAE'), 1, 0)"
   ]
  },
  {
   "cell_type": "code",
   "execution_count": 182,
   "metadata": {},
   "outputs": [],
   "source": [
    "LAEs = df[df['isLAE']==1]"
   ]
  },
  {
   "cell_type": "code",
   "execution_count": 189,
   "metadata": {},
   "outputs": [],
   "source": [
    "from sklearn.model_selection import train_test_split\n",
    "\n",
    "# Select features\n",
    "cols_to_use = ['n_spax_thresh','area_isoproj', 'area_z','IsoFlux','IsoErr','flux_minmax','lambda_geow',\n",
    "               'lambda_fluxw','SNR','EODeltaSN','BoxFraction','OverContinuum']#,'redshift']\n",
    "\n",
    "cols_to_use = ['n_spax_thresh','lambda_geow','SNR','EODeltaSN','BoxFraction']#,'redshift']\n",
    "\n",
    "#dont use CogFlux, CogErr, CogRad, redshift. These only have values for ones we've identified as sources so it's\n",
    "#an easy way for the algorithm to identify them! This is an example of target leakage.\n",
    "\n",
    "#Don't use veloffset. This is always 0 here as it needs an absorber redshift to be input in the gui\n",
    "\n",
    "X = df[cols_to_use]\n",
    "\n",
    "# Select target\n",
    "y = df.isLAE\n",
    "\n",
    "# Separate data into training and validation sets\n",
    "X_train, X_valid, y_train, y_valid = train_test_split(X, y, test_size=0.2, random_state=0)"
   ]
  },
  {
   "cell_type": "code",
   "execution_count": 190,
   "metadata": {},
   "outputs": [],
   "source": [
    "from sklearn.ensemble import RandomForestRegressor\n",
    "from sklearn.pipeline import Pipeline\n",
    "from sklearn.preprocessing.imputation import Imputer\n",
    "\n",
    "my_pipeline = Pipeline(steps=[('preprocessor', Imputer()),\n",
    "                              ('model', RandomForestRegressor(n_estimators=50,\n",
    "                                                              random_state=0))\n",
    "                             ])"
   ]
  },
  {
   "cell_type": "code",
   "execution_count": 191,
   "metadata": {},
   "outputs": [
    {
     "name": "stdout",
     "output_type": "stream",
     "text": [
      "('MAE scores:\\n', array([0.05282759, 0.05063251, 0.04923138, 0.05132046, 0.0523177 ]))\n"
     ]
    }
   ],
   "source": [
    "from sklearn.model_selection import cross_val_score\n",
    "\n",
    "# Multiply by -1 since sklearn calculates *negative* MAE\n",
    "scores = -1 * cross_val_score(my_pipeline, X_train, y_train,\n",
    "                              cv=5,\n",
    "                              scoring='neg_mean_absolute_error')\n",
    "\n",
    "print(\"MAE scores:\\n\", scores)"
   ]
  },
  {
   "cell_type": "code",
   "execution_count": 192,
   "metadata": {},
   "outputs": [],
   "source": [
    "model = my_pipeline.fit(X_train,y_train)"
   ]
  },
  {
   "cell_type": "code",
   "execution_count": 193,
   "metadata": {},
   "outputs": [],
   "source": [
    "preds = my_pipeline.predict(X_valid)\n",
    "\n",
    "# Number of True LAEs predicted to be LAEs\n",
    "isLAE_and_predLAE = np.where((y_valid == 1) & (preds==1))\n",
    "\n",
    "# Number of True LAEs bot predicted to be LAEs\n",
    "isLAE_and_NotpredLAE = np.where((y_valid == 1) & (preds!=1))\n",
    "\n",
    "# Number of not LAEs predicted to be LAEs\n",
    "NotLAE_and_predLAE = np.where((y_valid != 1) & (preds==1))\n",
    "\n",
    "# Number of not LAEs predicted to not be LAEs\n",
    "NotLAE_and_NotpredLAE = np.where((y_valid != 1) & (preds!=1))\n"
   ]
  },
  {
   "cell_type": "code",
   "execution_count": 194,
   "metadata": {},
   "outputs": [
    {
     "name": "stdout",
     "output_type": "stream",
     "text": [
      "(0, 215, 0, 6128)\n"
     ]
    }
   ],
   "source": [
    "print(len(isLAE_and_predLAE[0]),len(isLAE_and_NotpredLAE[0]),len(NotLAE_and_predLAE[0]),len(NotLAE_and_NotpredLAE[0]))"
   ]
  },
  {
   "cell_type": "code",
   "execution_count": 195,
   "metadata": {},
   "outputs": [
    {
     "data": {
      "text/plain": [
       "215"
      ]
     },
     "execution_count": 195,
     "metadata": {},
     "output_type": "execute_result"
    }
   ],
   "source": [
    "len(y_valid[y_valid==1])"
   ]
  },
  {
   "cell_type": "code",
   "execution_count": 1,
   "metadata": {},
   "outputs": [
    {
     "ename": "NameError",
     "evalue": "name 'y_valid' is not defined",
     "output_type": "error",
     "traceback": [
      "\u001b[0;31m---------------------------------------------------------------------------\u001b[0m",
      "\u001b[0;31mNameError\u001b[0m                                 Traceback (most recent call last)",
      "\u001b[0;32m<ipython-input-1-6ca764eb7b15>\u001b[0m in \u001b[0;36m<module>\u001b[0;34m()\u001b[0m\n\u001b[0;32m----> 1\u001b[0;31m \u001b[0mtype\u001b[0m\u001b[0;34m(\u001b[0m\u001b[0my_valid\u001b[0m\u001b[0;34m)\u001b[0m\u001b[0;34m\u001b[0m\u001b[0m\n\u001b[0m",
      "\u001b[0;31mNameError\u001b[0m: name 'y_valid' is not defined"
     ]
    }
   ],
   "source": [
    "type(y_valid)"
   ]
  },
  {
   "cell_type": "code",
   "execution_count": null,
   "metadata": {},
   "outputs": [],
   "source": []
  }
 ],
 "metadata": {
  "kernelspec": {
   "display_name": "Python 3",
   "language": "python",
   "name": "python3"
  },
  "language_info": {
   "codemirror_mode": {
    "name": "ipython",
    "version": 2
   },
   "file_extension": ".py",
   "mimetype": "text/x-python",
   "name": "python",
   "nbconvert_exporter": "python",
   "pygments_lexer": "ipython2",
   "version": "2.7.15"
  }
 },
 "nbformat": 4,
 "nbformat_minor": 2
}
