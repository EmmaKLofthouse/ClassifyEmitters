{
 "cells": [
  {
   "cell_type": "markdown",
   "metadata": {},
   "source": [
    "First practice DL using just the properties from the catalogues then move to using the source spectra/images\n"
   ]
  },
  {
   "cell_type": "code",
   "execution_count": 2,
   "metadata": {},
   "outputs": [],
   "source": [
    "import numpy as np\n",
    "import pandas as pd\n",
    "from tensorflow import keras\n",
    "from tensorflow.keras import layers"
   ]
  },
  {
   "cell_type": "code",
   "execution_count": 3,
   "metadata": {},
   "outputs": [],
   "source": [
    "# Read in individual datacubes and combine into a single dataframe\n",
    "\n",
    "from astropy.table import Table\n",
    "import pandas as pd\n",
    "\n",
    "df = pd.DataFrame()\n",
    "\n",
    "sightline_list = ['J010619+004823','J012403+004432','J013340+040059','J013724-422417','J015741-010629',\n",
    "                  'J020944+051713','J024401-013403','J033413-161205','J033900-013318','J094932+033531',\n",
    "                  'J095852+120245','J102009+104002','J111008+024458','J111113-080401','J120917+113830',\n",
    "                  'J123055-113909','J124957-015928','J133254+005250','J142438+225600','J162116-004251',\n",
    "                  'J193957-100241','J200324-325145','J205344-354652','J221527-161133','J230301-093930',\n",
    "                  'J231543+145606','J233446-090812','J234913-371259']\n",
    "\n",
    "\n",
    "for sightline in sightline_list:\n",
    "    table = Table.read('/home/emma/Documents/laeML/catalogues/individual_cubes/{}_cubex_data.fits'.format(sightline))\n",
    "    table['sightline'] = sightline\n",
    "    pandas_df = table.to_pandas()\n",
    "    df = pd.concat([df,pandas_df])\n"
   ]
  },
  {
   "cell_type": "code",
   "execution_count": 4,
   "metadata": {},
   "outputs": [
    {
     "data": {
      "text/plain": [
       "Index([u'id', u'n_spax_thresh', u'x_geow', u'y_geow', u'z_geow', u'x_fluxw',\n",
       "       u'y_fluxw', u'z_fluxw', u'x_min', u'y_min', u'z_min', u'x_max',\n",
       "       u'y_max', u'z_max', u'area_isoproj', u'area_z', u'IsoFlux', u'IsoErr',\n",
       "       u'flux_minmax', u'err_minmax', u'flux_aper', u'err_aper', u'ra_geow',\n",
       "       u'Dec_geow', u'lambda_geow', u'ra_fluxw', u'Dec_fluxw', u'lambda_fluxw',\n",
       "       u'assoc_Id', u'SNR', u'SNR_odd', u'SNR_even', u'SNR_med', u'covfac',\n",
       "       u'confidence', u'veloffset', u'EODeltaSN', u'BoxFraction',\n",
       "       u'OverContinuum', u'redshift', u'CogFlux', u'CogErr', u'CogRad',\n",
       "       u'type', u'notes', u'inspect', u'sightline'],\n",
       "      dtype='object')"
      ]
     },
     "execution_count": 4,
     "metadata": {},
     "output_type": "execute_result"
    }
   ],
   "source": [
    "df.columns\n"
   ]
  },
  {
   "cell_type": "code",
   "execution_count": 5,
   "metadata": {},
   "outputs": [],
   "source": [
    "# Cut to SNR > 7 as we haven't looked at all the sources below this\n",
    "df = df[df.SNR >= 7]"
   ]
  },
  {
   "cell_type": "code",
   "execution_count": 6,
   "metadata": {},
   "outputs": [
    {
     "name": "stdout",
     "output_type": "stream",
     "text": [
      "1013\n"
     ]
    }
   ],
   "source": [
    "# Check number of LAEs\n",
    "nLAE = df['type'].str.contains('LAE').sum()\n",
    "print(nLAE)"
   ]
  },
  {
   "cell_type": "code",
   "execution_count": 7,
   "metadata": {},
   "outputs": [],
   "source": [
    "# Create new column to show if entry is an LAE\n",
    "df['isLAE'] = np.where(df['type'].str.contains('LAE'), 1, 0)"
   ]
  },
  {
   "cell_type": "code",
   "execution_count": 9,
   "metadata": {},
   "outputs": [],
   "source": [
    "from sklearn.model_selection import train_test_split\n",
    "\n",
    "# Select features\n",
    "cols_to_use = ['n_spax_thresh','area_isoproj', 'area_z','IsoFlux','IsoErr','flux_minmax','lambda_geow',\n",
    "               'lambda_fluxw','SNR','EODeltaSN','BoxFraction','OverContinuum']#,'redshift']\n",
    "\n",
    "cols_to_use = ['n_spax_thresh','lambda_geow','SNR','EODeltaSN','BoxFraction']#,'redshift']\n",
    "\n",
    "#dont use CogFlux, CogErr, CogRad, redshift. These only have values for ones we've identified as sources so it's\n",
    "#an easy way for the algorithm to identify them! This is an example of target leakage.\n",
    "\n",
    "#Don't use veloffset. This is always 0 here as it needs an absorber redshift to be input in the gui\n",
    "\n",
    "X = df[cols_to_use]\n",
    "\n",
    "# Select target\n",
    "y = df.isLAE\n",
    "\n",
    "# Separate data into training and validation sets\n",
    "X_train, X_valid, y_train, y_valid = train_test_split(X, y, test_size=0.2, random_state=0)"
   ]
  },
  {
   "cell_type": "code",
   "execution_count": null,
   "metadata": {},
   "outputs": [],
   "source": [
    "##"
   ]
  }
 ],
 "metadata": {
  "kernelspec": {
   "display_name": "Python 3",
   "language": "python",
   "name": "python3"
  },
  "language_info": {
   "codemirror_mode": {
    "name": "ipython",
    "version": 2
   },
   "file_extension": ".py",
   "mimetype": "text/x-python",
   "name": "python",
   "nbconvert_exporter": "python",
   "pygments_lexer": "ipython2",
   "version": "2.7.15"
  }
 },
 "nbformat": 4,
 "nbformat_minor": 2
}
