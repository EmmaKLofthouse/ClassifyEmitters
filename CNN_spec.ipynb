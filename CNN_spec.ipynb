{
 "cells": [
  {
   "cell_type": "markdown",
   "metadata": {},
   "source": [
    "Use a CNN to classify trimmed spectra\n"
   ]
  },
  {
   "cell_type": "code",
   "execution_count": 1,
   "metadata": {},
   "outputs": [],
   "source": [
    "import os\n",
    "os.environ['TF_CPP_MIN_LOG_LEVEL'] = '3'\n",
    "import numpy as np\n",
    "import pandas as pd\n",
    "from tensorflow import keras\n",
    "from tensorflow.keras import layers"
   ]
  },
  {
   "cell_type": "code",
   "execution_count": 46,
   "metadata": {},
   "outputs": [],
   "source": [
    "# Read in individual datacubes and combine into a single dataframe\n",
    "\n",
    "from astropy.table import Table\n",
    "import pandas as pd\n",
    "\n",
    "df = pd.DataFrame()\n",
    "\n",
    "sightline_list = ['J010619+004823','J012403+004432','J013340+040059','J013724-422417','J015741-010629',\n",
    "                  'J020944+051713','J024401-013403','J033413-161205','J033900-013318','J094932+033531',\n",
    "                  'J095852+120245','J102009+104002','J111008+024458','J111113-080401','J120917+113830',\n",
    "                  'J123055-113909','J124957-015928','J133254+005250','J142438+225600','J162116-004251',\n",
    "                  'J193957-100241','J200324-325145','J205344-354652','J221527-161133','J230301-093930',\n",
    "                  'J231543+145606','J233446-090812','J234913-371259']\n",
    "\n",
    "for sightline in sightline_list:\n",
    "    table = Table.read('/home/emma/Documents/laeML/data/catalogues/individual_cubes/{}_cubex_data.fits'.format(sightline))\n",
    "    table['sightline'] = sightline\n",
    "    pandas_df = table.to_pandas()\n",
    "    df = pd.concat([df,pandas_df])"
   ]
  },
  {
   "cell_type": "code",
   "execution_count": 47,
   "metadata": {},
   "outputs": [],
   "source": [
    "# Cut to SNR > 7 as we haven't looked at all the sources below this\n",
    "df = df[df.SNR >= 7]"
   ]
  },
  {
   "cell_type": "code",
   "execution_count": 48,
   "metadata": {},
   "outputs": [
    {
     "name": "stdout",
     "output_type": "stream",
     "text": [
      "1013\n"
     ]
    }
   ],
   "source": [
    "# Check number of LAEs\n",
    "type_str = df['type'].str.decode(\"utf-8\")\n",
    "nLAE = type_str.str.contains('LAE').sum()\n",
    "print(nLAE)"
   ]
  },
  {
   "cell_type": "code",
   "execution_count": 49,
   "metadata": {},
   "outputs": [],
   "source": [
    "# Create new column to show if entry is an LAE\n",
    "df['isLAE'] = np.where(type_str.str.contains('LAE'), 1, 0)"
   ]
  },
  {
   "cell_type": "markdown",
   "metadata": {},
   "source": [
    "We want to use 1D flux arrays from the trimmed spectra as input to our CNN (i.e. X) while is_LAE is the target (i.e. Y)"
   ]
  },
  {
   "cell_type": "code",
   "execution_count": 50,
   "metadata": {},
   "outputs": [],
   "source": [
    "y=df.isLAE"
   ]
  },
  {
   "cell_type": "markdown",
   "metadata": {},
   "source": [
    "Need to read in the flux columns from the trimmed arrays and combine into a dataframe to use as X"
   ]
  },
  {
   "cell_type": "code",
   "execution_count": 7,
   "metadata": {},
   "outputs": [],
   "source": [
    "#instead of creating x from each file individually, read it in from a prepared file\n",
    "xAll=pd.read_csv(\"/home/emma/Documents/laeML/data/trimmed_spectra_dataframe.csv\",index_col=0)"
   ]
  },
  {
   "cell_type": "code",
   "execution_count": 8,
   "metadata": {},
   "outputs": [
    {
     "data": {
      "text/html": [
       "<div>\n",
       "<style scoped>\n",
       "    .dataframe tbody tr th:only-of-type {\n",
       "        vertical-align: middle;\n",
       "    }\n",
       "\n",
       "    .dataframe tbody tr th {\n",
       "        vertical-align: top;\n",
       "    }\n",
       "\n",
       "    .dataframe thead th {\n",
       "        text-align: right;\n",
       "    }\n",
       "</style>\n",
       "<table border=\"1\" class=\"dataframe\">\n",
       "  <thead>\n",
       "    <tr style=\"text-align: right;\">\n",
       "      <th></th>\n",
       "      <th>0</th>\n",
       "      <th>1</th>\n",
       "      <th>2</th>\n",
       "      <th>3</th>\n",
       "      <th>4</th>\n",
       "      <th>5</th>\n",
       "      <th>6</th>\n",
       "      <th>7</th>\n",
       "      <th>8</th>\n",
       "      <th>9</th>\n",
       "      <th>...</th>\n",
       "      <th>152</th>\n",
       "      <th>153</th>\n",
       "      <th>154</th>\n",
       "      <th>155</th>\n",
       "      <th>156</th>\n",
       "      <th>157</th>\n",
       "      <th>158</th>\n",
       "      <th>159</th>\n",
       "      <th>160</th>\n",
       "      <th>161</th>\n",
       "    </tr>\n",
       "  </thead>\n",
       "  <tbody>\n",
       "    <tr>\n",
       "      <th>0</th>\n",
       "      <td>J010619+004823</td>\n",
       "      <td>5</td>\n",
       "      <td>590.384766</td>\n",
       "      <td>454.941467</td>\n",
       "      <td>354.345154</td>\n",
       "      <td>328.243042</td>\n",
       "      <td>5.348419</td>\n",
       "      <td>70.211662</td>\n",
       "      <td>235.562622</td>\n",
       "      <td>207.469299</td>\n",
       "      <td>...</td>\n",
       "      <td>NaN</td>\n",
       "      <td>NaN</td>\n",
       "      <td>NaN</td>\n",
       "      <td>NaN</td>\n",
       "      <td>NaN</td>\n",
       "      <td>NaN</td>\n",
       "      <td>NaN</td>\n",
       "      <td>NaN</td>\n",
       "      <td>NaN</td>\n",
       "      <td>NaN</td>\n",
       "    </tr>\n",
       "    <tr>\n",
       "      <th>1</th>\n",
       "      <td>J010619+004823</td>\n",
       "      <td>9</td>\n",
       "      <td>452.941223</td>\n",
       "      <td>427.720490</td>\n",
       "      <td>435.023926</td>\n",
       "      <td>538.362366</td>\n",
       "      <td>448.548431</td>\n",
       "      <td>518.894287</td>\n",
       "      <td>402.824951</td>\n",
       "      <td>319.419006</td>\n",
       "      <td>...</td>\n",
       "      <td>NaN</td>\n",
       "      <td>NaN</td>\n",
       "      <td>NaN</td>\n",
       "      <td>NaN</td>\n",
       "      <td>NaN</td>\n",
       "      <td>NaN</td>\n",
       "      <td>NaN</td>\n",
       "      <td>NaN</td>\n",
       "      <td>NaN</td>\n",
       "      <td>NaN</td>\n",
       "    </tr>\n",
       "    <tr>\n",
       "      <th>2</th>\n",
       "      <td>J010619+004823</td>\n",
       "      <td>18</td>\n",
       "      <td>237.862305</td>\n",
       "      <td>131.504059</td>\n",
       "      <td>196.990021</td>\n",
       "      <td>375.919373</td>\n",
       "      <td>264.392822</td>\n",
       "      <td>225.224884</td>\n",
       "      <td>189.368408</td>\n",
       "      <td>158.257416</td>\n",
       "      <td>...</td>\n",
       "      <td>NaN</td>\n",
       "      <td>NaN</td>\n",
       "      <td>NaN</td>\n",
       "      <td>NaN</td>\n",
       "      <td>NaN</td>\n",
       "      <td>NaN</td>\n",
       "      <td>NaN</td>\n",
       "      <td>NaN</td>\n",
       "      <td>NaN</td>\n",
       "      <td>NaN</td>\n",
       "    </tr>\n",
       "    <tr>\n",
       "      <th>3</th>\n",
       "      <td>J010619+004823</td>\n",
       "      <td>703</td>\n",
       "      <td>371.443054</td>\n",
       "      <td>337.741241</td>\n",
       "      <td>242.179245</td>\n",
       "      <td>256.283417</td>\n",
       "      <td>389.117188</td>\n",
       "      <td>477.863403</td>\n",
       "      <td>372.696228</td>\n",
       "      <td>448.540527</td>\n",
       "      <td>...</td>\n",
       "      <td>290.749451</td>\n",
       "      <td>296.189941</td>\n",
       "      <td>207.545380</td>\n",
       "      <td>299.615936</td>\n",
       "      <td>240.926071</td>\n",
       "      <td>307.433838</td>\n",
       "      <td>527.028931</td>\n",
       "      <td>481.803894</td>\n",
       "      <td>500.537750</td>\n",
       "      <td>474.636536</td>\n",
       "    </tr>\n",
       "    <tr>\n",
       "      <th>4</th>\n",
       "      <td>J010619+004823</td>\n",
       "      <td>784</td>\n",
       "      <td>47.715321</td>\n",
       "      <td>-27.427366</td>\n",
       "      <td>42.573402</td>\n",
       "      <td>34.838043</td>\n",
       "      <td>89.349220</td>\n",
       "      <td>-45.284454</td>\n",
       "      <td>-17.226364</td>\n",
       "      <td>-45.073406</td>\n",
       "      <td>...</td>\n",
       "      <td>114.334274</td>\n",
       "      <td>35.456001</td>\n",
       "      <td>-106.346481</td>\n",
       "      <td>25.491888</td>\n",
       "      <td>45.191193</td>\n",
       "      <td>45.270767</td>\n",
       "      <td>-9.925606</td>\n",
       "      <td>-58.586670</td>\n",
       "      <td>39.541794</td>\n",
       "      <td>29.653870</td>\n",
       "    </tr>\n",
       "  </tbody>\n",
       "</table>\n",
       "<p>5 rows × 162 columns</p>\n",
       "</div>"
      ],
      "text/plain": [
       "                0    1           2           3           4           5  \\\n",
       "0  J010619+004823    5  590.384766  454.941467  354.345154  328.243042   \n",
       "1  J010619+004823    9  452.941223  427.720490  435.023926  538.362366   \n",
       "2  J010619+004823   18  237.862305  131.504059  196.990021  375.919373   \n",
       "3  J010619+004823  703  371.443054  337.741241  242.179245  256.283417   \n",
       "4  J010619+004823  784   47.715321  -27.427366   42.573402   34.838043   \n",
       "\n",
       "            6           7           8           9  ...         152  \\\n",
       "0    5.348419   70.211662  235.562622  207.469299  ...         NaN   \n",
       "1  448.548431  518.894287  402.824951  319.419006  ...         NaN   \n",
       "2  264.392822  225.224884  189.368408  158.257416  ...         NaN   \n",
       "3  389.117188  477.863403  372.696228  448.540527  ...  290.749451   \n",
       "4   89.349220  -45.284454  -17.226364  -45.073406  ...  114.334274   \n",
       "\n",
       "          153         154         155         156         157         158  \\\n",
       "0         NaN         NaN         NaN         NaN         NaN         NaN   \n",
       "1         NaN         NaN         NaN         NaN         NaN         NaN   \n",
       "2         NaN         NaN         NaN         NaN         NaN         NaN   \n",
       "3  296.189941  207.545380  299.615936  240.926071  307.433838  527.028931   \n",
       "4   35.456001 -106.346481   25.491888   45.191193   45.270767   -9.925606   \n",
       "\n",
       "          159         160         161  \n",
       "0         NaN         NaN         NaN  \n",
       "1         NaN         NaN         NaN  \n",
       "2         NaN         NaN         NaN  \n",
       "3  481.803894  500.537750  474.636536  \n",
       "4  -58.586670   39.541794   29.653870  \n",
       "\n",
       "[5 rows x 162 columns]"
      ]
     },
     "execution_count": 8,
     "metadata": {},
     "output_type": "execute_result"
    }
   ],
   "source": [
    "xAll.head()"
   ]
  },
  {
   "cell_type": "code",
   "execution_count": 9,
   "metadata": {},
   "outputs": [],
   "source": [
    "x=xAll.drop(['0','1'], axis=1)"
   ]
  },
  {
   "cell_type": "code",
   "execution_count": 10,
   "metadata": {},
   "outputs": [
    {
     "data": {
      "text/html": [
       "<div>\n",
       "<style scoped>\n",
       "    .dataframe tbody tr th:only-of-type {\n",
       "        vertical-align: middle;\n",
       "    }\n",
       "\n",
       "    .dataframe tbody tr th {\n",
       "        vertical-align: top;\n",
       "    }\n",
       "\n",
       "    .dataframe thead th {\n",
       "        text-align: right;\n",
       "    }\n",
       "</style>\n",
       "<table border=\"1\" class=\"dataframe\">\n",
       "  <thead>\n",
       "    <tr style=\"text-align: right;\">\n",
       "      <th></th>\n",
       "      <th>2</th>\n",
       "      <th>3</th>\n",
       "      <th>4</th>\n",
       "      <th>5</th>\n",
       "      <th>6</th>\n",
       "      <th>7</th>\n",
       "      <th>8</th>\n",
       "      <th>9</th>\n",
       "      <th>10</th>\n",
       "      <th>11</th>\n",
       "      <th>...</th>\n",
       "      <th>152</th>\n",
       "      <th>153</th>\n",
       "      <th>154</th>\n",
       "      <th>155</th>\n",
       "      <th>156</th>\n",
       "      <th>157</th>\n",
       "      <th>158</th>\n",
       "      <th>159</th>\n",
       "      <th>160</th>\n",
       "      <th>161</th>\n",
       "    </tr>\n",
       "  </thead>\n",
       "  <tbody>\n",
       "    <tr>\n",
       "      <th>0</th>\n",
       "      <td>590.384766</td>\n",
       "      <td>454.941467</td>\n",
       "      <td>354.345154</td>\n",
       "      <td>328.243042</td>\n",
       "      <td>5.348419</td>\n",
       "      <td>70.211662</td>\n",
       "      <td>235.562622</td>\n",
       "      <td>207.469299</td>\n",
       "      <td>137.152069</td>\n",
       "      <td>109.381187</td>\n",
       "      <td>...</td>\n",
       "      <td>NaN</td>\n",
       "      <td>NaN</td>\n",
       "      <td>NaN</td>\n",
       "      <td>NaN</td>\n",
       "      <td>NaN</td>\n",
       "      <td>NaN</td>\n",
       "      <td>NaN</td>\n",
       "      <td>NaN</td>\n",
       "      <td>NaN</td>\n",
       "      <td>NaN</td>\n",
       "    </tr>\n",
       "    <tr>\n",
       "      <th>1</th>\n",
       "      <td>452.941223</td>\n",
       "      <td>427.720490</td>\n",
       "      <td>435.023926</td>\n",
       "      <td>538.362366</td>\n",
       "      <td>448.548431</td>\n",
       "      <td>518.894287</td>\n",
       "      <td>402.824951</td>\n",
       "      <td>319.419006</td>\n",
       "      <td>319.533020</td>\n",
       "      <td>267.410187</td>\n",
       "      <td>...</td>\n",
       "      <td>NaN</td>\n",
       "      <td>NaN</td>\n",
       "      <td>NaN</td>\n",
       "      <td>NaN</td>\n",
       "      <td>NaN</td>\n",
       "      <td>NaN</td>\n",
       "      <td>NaN</td>\n",
       "      <td>NaN</td>\n",
       "      <td>NaN</td>\n",
       "      <td>NaN</td>\n",
       "    </tr>\n",
       "    <tr>\n",
       "      <th>2</th>\n",
       "      <td>237.862305</td>\n",
       "      <td>131.504059</td>\n",
       "      <td>196.990021</td>\n",
       "      <td>375.919373</td>\n",
       "      <td>264.392822</td>\n",
       "      <td>225.224884</td>\n",
       "      <td>189.368408</td>\n",
       "      <td>158.257416</td>\n",
       "      <td>97.674271</td>\n",
       "      <td>99.918762</td>\n",
       "      <td>...</td>\n",
       "      <td>NaN</td>\n",
       "      <td>NaN</td>\n",
       "      <td>NaN</td>\n",
       "      <td>NaN</td>\n",
       "      <td>NaN</td>\n",
       "      <td>NaN</td>\n",
       "      <td>NaN</td>\n",
       "      <td>NaN</td>\n",
       "      <td>NaN</td>\n",
       "      <td>NaN</td>\n",
       "    </tr>\n",
       "    <tr>\n",
       "      <th>3</th>\n",
       "      <td>371.443054</td>\n",
       "      <td>337.741241</td>\n",
       "      <td>242.179245</td>\n",
       "      <td>256.283417</td>\n",
       "      <td>389.117188</td>\n",
       "      <td>477.863403</td>\n",
       "      <td>372.696228</td>\n",
       "      <td>448.540527</td>\n",
       "      <td>375.683411</td>\n",
       "      <td>559.601074</td>\n",
       "      <td>...</td>\n",
       "      <td>290.749451</td>\n",
       "      <td>296.189941</td>\n",
       "      <td>207.545380</td>\n",
       "      <td>299.615936</td>\n",
       "      <td>240.926071</td>\n",
       "      <td>307.433838</td>\n",
       "      <td>527.028931</td>\n",
       "      <td>481.803894</td>\n",
       "      <td>500.537750</td>\n",
       "      <td>474.636536</td>\n",
       "    </tr>\n",
       "    <tr>\n",
       "      <th>4</th>\n",
       "      <td>47.715321</td>\n",
       "      <td>-27.427366</td>\n",
       "      <td>42.573402</td>\n",
       "      <td>34.838043</td>\n",
       "      <td>89.349220</td>\n",
       "      <td>-45.284454</td>\n",
       "      <td>-17.226364</td>\n",
       "      <td>-45.073406</td>\n",
       "      <td>23.561562</td>\n",
       "      <td>-54.283142</td>\n",
       "      <td>...</td>\n",
       "      <td>114.334274</td>\n",
       "      <td>35.456001</td>\n",
       "      <td>-106.346481</td>\n",
       "      <td>25.491888</td>\n",
       "      <td>45.191193</td>\n",
       "      <td>45.270767</td>\n",
       "      <td>-9.925606</td>\n",
       "      <td>-58.586670</td>\n",
       "      <td>39.541794</td>\n",
       "      <td>29.653870</td>\n",
       "    </tr>\n",
       "  </tbody>\n",
       "</table>\n",
       "<p>5 rows × 160 columns</p>\n",
       "</div>"
      ],
      "text/plain": [
       "            2           3           4           5           6           7  \\\n",
       "0  590.384766  454.941467  354.345154  328.243042    5.348419   70.211662   \n",
       "1  452.941223  427.720490  435.023926  538.362366  448.548431  518.894287   \n",
       "2  237.862305  131.504059  196.990021  375.919373  264.392822  225.224884   \n",
       "3  371.443054  337.741241  242.179245  256.283417  389.117188  477.863403   \n",
       "4   47.715321  -27.427366   42.573402   34.838043   89.349220  -45.284454   \n",
       "\n",
       "            8           9          10          11  ...         152  \\\n",
       "0  235.562622  207.469299  137.152069  109.381187  ...         NaN   \n",
       "1  402.824951  319.419006  319.533020  267.410187  ...         NaN   \n",
       "2  189.368408  158.257416   97.674271   99.918762  ...         NaN   \n",
       "3  372.696228  448.540527  375.683411  559.601074  ...  290.749451   \n",
       "4  -17.226364  -45.073406   23.561562  -54.283142  ...  114.334274   \n",
       "\n",
       "          153         154         155         156         157         158  \\\n",
       "0         NaN         NaN         NaN         NaN         NaN         NaN   \n",
       "1         NaN         NaN         NaN         NaN         NaN         NaN   \n",
       "2         NaN         NaN         NaN         NaN         NaN         NaN   \n",
       "3  296.189941  207.545380  299.615936  240.926071  307.433838  527.028931   \n",
       "4   35.456001 -106.346481   25.491888   45.191193   45.270767   -9.925606   \n",
       "\n",
       "          159         160         161  \n",
       "0         NaN         NaN         NaN  \n",
       "1         NaN         NaN         NaN  \n",
       "2         NaN         NaN         NaN  \n",
       "3  481.803894  500.537750  474.636536  \n",
       "4  -58.586670   39.541794   29.653870  \n",
       "\n",
       "[5 rows x 160 columns]"
      ]
     },
     "execution_count": 10,
     "metadata": {},
     "output_type": "execute_result"
    }
   ],
   "source": [
    "x.head()"
   ]
  },
  {
   "cell_type": "code",
   "execution_count": 11,
   "metadata": {},
   "outputs": [],
   "source": [
    "x=x.fillna(0)"
   ]
  },
  {
   "cell_type": "code",
   "execution_count": 12,
   "metadata": {},
   "outputs": [
    {
     "name": "stdout",
     "output_type": "stream",
     "text": [
      "(15356, 160, 1)\n"
     ]
    }
   ],
   "source": [
    "x = np.array(x).reshape(x.shape[0], x.shape[1], 1)\n",
    "print(x.shape)"
   ]
  },
  {
   "cell_type": "code",
   "execution_count": 35,
   "metadata": {},
   "outputs": [],
   "source": [
    "#create the final test/validation sample that the model never sees\n",
    "from sklearn.model_selection import train_test_split\n",
    "x, x_final, y, y_final=train_test_split(x, y, test_size=0.1)"
   ]
  },
  {
   "cell_type": "code",
   "execution_count": 36,
   "metadata": {},
   "outputs": [],
   "source": [
    "from sklearn.model_selection import train_test_split\n",
    "x_train, x_test, y_train, y_test=train_test_split(x, y, test_size=0.15)"
   ]
  },
  {
   "cell_type": "code",
   "execution_count": 37,
   "metadata": {},
   "outputs": [
    {
     "name": "stdout",
     "output_type": "stream",
     "text": [
      "285\n"
     ]
    }
   ],
   "source": [
    "nLAE_trainSample = len(y_train[y_train==1])\n",
    "print(nLAE_trainSample)"
   ]
  },
  {
   "cell_type": "code",
   "execution_count": 38,
   "metadata": {},
   "outputs": [],
   "source": [
    "#Create simple CNN\n",
    "\n",
    "#import keras\n",
    "from keras.datasets import mnist\n",
    "from keras.models import Sequential\n",
    "from keras.layers import Dense, Dropout, Flatten\n",
    "from keras.layers import Conv1D, MaxPooling1D\n",
    "\n",
    "model = Sequential()\n",
    "model.add(Conv1D(64, 2, activation=\"relu\", input_shape=(160,1)))\n",
    "model.add(MaxPooling1D())\n",
    "model.add(Conv1D(64, 2, activation=\"relu\"))\n",
    "model.add(MaxPooling1D())\n",
    "model.add(Dense(16, activation=\"relu\"))\n",
    "model.add(MaxPooling1D())\n",
    "model.add(Flatten())\n",
    "model.add(Dense(1, activation = 'sigmoid'))\n"
   ]
  },
  {
   "cell_type": "code",
   "execution_count": 39,
   "metadata": {
    "scrolled": true
   },
   "outputs": [
    {
     "name": "stdout",
     "output_type": "stream",
     "text": [
      "Model: \"sequential_1\"\n",
      "_________________________________________________________________\n",
      " Layer (type)                Output Shape              Param #   \n",
      "=================================================================\n",
      " conv1d_2 (Conv1D)           (None, 159, 64)           192       \n",
      "                                                                 \n",
      " max_pooling1d_3 (MaxPooling  (None, 79, 64)           0         \n",
      " 1D)                                                             \n",
      "                                                                 \n",
      " conv1d_3 (Conv1D)           (None, 78, 64)            8256      \n",
      "                                                                 \n",
      " max_pooling1d_4 (MaxPooling  (None, 39, 64)           0         \n",
      " 1D)                                                             \n",
      "                                                                 \n",
      " dense_2 (Dense)             (None, 39, 16)            1040      \n",
      "                                                                 \n",
      " max_pooling1d_5 (MaxPooling  (None, 19, 16)           0         \n",
      " 1D)                                                             \n",
      "                                                                 \n",
      " flatten_1 (Flatten)         (None, 304)               0         \n",
      "                                                                 \n",
      " dense_3 (Dense)             (None, 1)                 305       \n",
      "                                                                 \n",
      "=================================================================\n",
      "Total params: 9,793\n",
      "Trainable params: 9,793\n",
      "Non-trainable params: 0\n",
      "_________________________________________________________________\n"
     ]
    }
   ],
   "source": [
    "model.compile(loss = 'binary_crossentropy', \n",
    "     optimizer = \"adam\",               \n",
    "    metrics = ['accuracy'])\n",
    "model.summary()"
   ]
  },
  {
   "cell_type": "code",
   "execution_count": 40,
   "metadata": {
    "scrolled": true
   },
   "outputs": [
    {
     "name": "stdout",
     "output_type": "stream",
     "text": [
      "Epoch 1/20\n",
      "53/53 [==============================] - 3s 38ms/step - loss: 0.5751 - accuracy: 0.9591 - val_loss: 0.1950 - val_accuracy: 0.9695\n",
      "Epoch 2/20\n",
      "53/53 [==============================] - 2s 37ms/step - loss: 0.1562 - accuracy: 0.9657 - val_loss: 0.1167 - val_accuracy: 0.9625\n",
      "Epoch 3/20\n",
      "53/53 [==============================] - 2s 36ms/step - loss: 0.1093 - accuracy: 0.9700 - val_loss: 0.1072 - val_accuracy: 0.9657\n",
      "Epoch 4/20\n",
      "53/53 [==============================] - 2s 37ms/step - loss: 0.1029 - accuracy: 0.9707 - val_loss: 0.0995 - val_accuracy: 0.9700\n",
      "Epoch 5/20\n",
      "53/53 [==============================] - 2s 36ms/step - loss: 0.0963 - accuracy: 0.9713 - val_loss: 0.1392 - val_accuracy: 0.9705\n",
      "Epoch 6/20\n",
      "53/53 [==============================] - 2s 35ms/step - loss: 0.1053 - accuracy: 0.9710 - val_loss: 0.1015 - val_accuracy: 0.9700\n",
      "Epoch 7/20\n",
      "53/53 [==============================] - 2s 36ms/step - loss: 0.0911 - accuracy: 0.9711 - val_loss: 0.0952 - val_accuracy: 0.9705\n",
      "Epoch 8/20\n",
      "53/53 [==============================] - 2s 37ms/step - loss: 0.0874 - accuracy: 0.9729 - val_loss: 0.0892 - val_accuracy: 0.9711\n",
      "Epoch 9/20\n",
      "53/53 [==============================] - 2s 36ms/step - loss: 0.0824 - accuracy: 0.9732 - val_loss: 0.0867 - val_accuracy: 0.9689\n",
      "Epoch 10/20\n",
      "53/53 [==============================] - 2s 36ms/step - loss: 0.0792 - accuracy: 0.9731 - val_loss: 0.0844 - val_accuracy: 0.9732\n",
      "Epoch 11/20\n",
      "53/53 [==============================] - 2s 37ms/step - loss: 0.0748 - accuracy: 0.9739 - val_loss: 0.0930 - val_accuracy: 0.9711\n",
      "Epoch 12/20\n",
      "53/53 [==============================] - 2s 39ms/step - loss: 0.0746 - accuracy: 0.9729 - val_loss: 0.0971 - val_accuracy: 0.9705\n",
      "Epoch 13/20\n",
      "53/53 [==============================] - 2s 39ms/step - loss: 0.0757 - accuracy: 0.9746 - val_loss: 0.0830 - val_accuracy: 0.9737\n",
      "Epoch 14/20\n",
      "53/53 [==============================] - 2s 35ms/step - loss: 0.0712 - accuracy: 0.9745 - val_loss: 0.0830 - val_accuracy: 0.9737\n",
      "Epoch 15/20\n",
      "53/53 [==============================] - 2s 38ms/step - loss: 0.0671 - accuracy: 0.9761 - val_loss: 0.0868 - val_accuracy: 0.9727\n",
      "Epoch 16/20\n",
      "53/53 [==============================] - 2s 38ms/step - loss: 0.0750 - accuracy: 0.9751 - val_loss: 0.0903 - val_accuracy: 0.9711\n",
      "Epoch 17/20\n",
      "53/53 [==============================] - 2s 40ms/step - loss: 0.0696 - accuracy: 0.9745 - val_loss: 0.0876 - val_accuracy: 0.9716\n",
      "Epoch 18/20\n",
      "53/53 [==============================] - 2s 38ms/step - loss: 0.0649 - accuracy: 0.9761 - val_loss: 0.0852 - val_accuracy: 0.9695\n",
      "Epoch 19/20\n",
      "53/53 [==============================] - 2s 38ms/step - loss: 0.0625 - accuracy: 0.9773 - val_loss: 0.0937 - val_accuracy: 0.9662\n",
      "Epoch 20/20\n",
      "53/53 [==============================] - 2s 36ms/step - loss: 0.0622 - accuracy: 0.9763 - val_loss: 0.0908 - val_accuracy: 0.9695\n"
     ]
    },
    {
     "data": {
      "text/plain": [
       "<keras.callbacks.History at 0x7f451209c040>"
      ]
     },
     "execution_count": 40,
     "metadata": {},
     "output_type": "execute_result"
    }
   ],
   "source": [
    "model.fit(x_train, y_train,\n",
    "          batch_size=200,\n",
    "          epochs=20,\n",
    "          verbose=1,\n",
    "          validation_data=(x_test, y_test))"
   ]
  },
  {
   "cell_type": "code",
   "execution_count": 41,
   "metadata": {},
   "outputs": [
    {
     "name": "stdout",
     "output_type": "stream",
     "text": [
      "Test loss: 0.09076045453548431\n",
      "Test accuracy: 0.9694533944129944\n"
     ]
    }
   ],
   "source": [
    "score = model.evaluate(x_test, y_test, verbose=0)\n",
    "print('Test loss:', score[0])\n",
    "print('Test accuracy:', score[1])"
   ]
  },
  {
   "cell_type": "code",
   "execution_count": 42,
   "metadata": {},
   "outputs": [
    {
     "name": "stdout",
     "output_type": "stream",
     "text": [
      "44/44 [==============================] - 0s 2ms/step\n"
     ]
    }
   ],
   "source": [
    "ypred = model.predict(x_final)\n",
    "ypred = np.array(ypred)\n",
    "\n",
    "for yi in range(len(ypred)):\n",
    "    if ypred[yi]<0.5:\n",
    "        ypred[yi] = 0\n",
    "    else:\n",
    "        ypred[yi] = 1"
   ]
  },
  {
   "cell_type": "code",
   "execution_count": 43,
   "metadata": {},
   "outputs": [
    {
     "name": "stdout",
     "output_type": "stream",
     "text": [
      "29\n"
     ]
    }
   ],
   "source": [
    "y_final=np.array(y_final)\n",
    "nLAE_finalsample = len(y_final[y_final==1])\n",
    "print(nLAE_finalsample)"
   ]
  },
  {
   "cell_type": "code",
   "execution_count": 51,
   "metadata": {},
   "outputs": [],
   "source": [
    "isLAE_and_predLAE,isLAE_and_NotpredLAE,NotLAE_and_predLAE, NotLAE_and_NotpredLAE = 0,0,0,0\n",
    "\n",
    "for i in range(len(y_final)):\n",
    "    if (y_final[i] == 1) & (ypred[i][0]==1):\n",
    "        isLAE_and_predLAE += 1 # Number of True LAEs predicted to be LAEs\n",
    "    elif (y_final[i] == 1) & (ypred[i][0]!=1):\n",
    "        isLAE_and_NotpredLAE += 1 # Number of True LAEs not predicted to be LAEs\n",
    "    if (y_final[i] != 1) & (ypred[i][0]==1):\n",
    "        NotLAE_and_predLAE += 1 # Number of non-LAEs predicted to be LAEs\n",
    "    if (y_final[i] != 1) & (ypred[i][0] != 1):\n",
    "        NotLAE_and_NotpredLAE += 1 # Number of non-LAEs predicted to not be LAEs"
   ]
  },
  {
   "cell_type": "code",
   "execution_count": 52,
   "metadata": {},
   "outputs": [
    {
     "name": "stdout",
     "output_type": "stream",
     "text": [
      "4 25 15 1338\n"
     ]
    }
   ],
   "source": [
    "print(isLAE_and_predLAE,isLAE_and_NotpredLAE,NotLAE_and_predLAE,NotLAE_and_NotpredLAE)"
   ]
  },
  {
   "cell_type": "code",
   "execution_count": null,
   "metadata": {},
   "outputs": [],
   "source": []
  },
  {
   "cell_type": "markdown",
   "metadata": {},
   "source": []
  },
  {
   "cell_type": "code",
   "execution_count": null,
   "metadata": {},
   "outputs": [],
   "source": []
  }
 ],
 "metadata": {
  "kernelspec": {
   "display_name": "Python 3 (ipykernel)",
   "language": "python",
   "name": "python3"
  },
  "language_info": {
   "codemirror_mode": {
    "name": "ipython",
    "version": 3
   },
   "file_extension": ".py",
   "mimetype": "text/x-python",
   "name": "python",
   "nbconvert_exporter": "python",
   "pygments_lexer": "ipython3",
   "version": "3.10.6"
  }
 },
 "nbformat": 4,
 "nbformat_minor": 2
}
